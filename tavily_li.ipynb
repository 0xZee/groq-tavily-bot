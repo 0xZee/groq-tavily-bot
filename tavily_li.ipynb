{
  "nbformat": 4,
  "nbformat_minor": 0,
  "metadata": {
    "colab": {
      "provenance": [],
      "gpuType": "T4",
      "toc_visible": true,
      "authorship_tag": "ABX9TyM5FSwqHuPQaVmyoQKuvXAO",
      "include_colab_link": true
    },
    "kernelspec": {
      "name": "python3",
      "display_name": "Python 3"
    },
    "language_info": {
      "name": "python"
    },
    "accelerator": "GPU"
  },
  "cells": [
    {
      "cell_type": "markdown",
      "metadata": {
        "id": "view-in-github",
        "colab_type": "text"
      },
      "source": [
        "<a href=\"https://colab.research.google.com/github/0xZee/groq-tavily-bot/blob/main/tavily_li.ipynb\" target=\"_parent\"><img src=\"https://colab.research.google.com/assets/colab-badge.svg\" alt=\"Open In Colab\"/></a>"
      ]
    },
    {
      "cell_type": "markdown",
      "source": [
        "`LLAMA-INDEX, TAVILY `: Enhanced Search Bot\n",
        "\n",
        "search: Search for relevant dynamic data based on a query. Returns a list of urls and their relevant content.\n",
        "This loader is designed to be used as a way to load data as a Tool in an Agent."
      ],
      "metadata": {
        "id": "--DjVsi6W5kJ"
      }
    },
    {
      "cell_type": "markdown",
      "source": [
        "INSTALL & LIBRARIES\n",
        "---"
      ],
      "metadata": {
        "id": "2-8S6xUgWvgb"
      }
    },
    {
      "cell_type": "code",
      "execution_count": null,
      "metadata": {
        "id": "Cc5BXvLkWmbV"
      },
      "outputs": [],
      "source": [
        "!pip install -q llama-index llama-hub tavily-python llama-index-llms-groq\n",
        "!pip install -q llama-index-embeddings-cohere\n",
        "!pip install transformers -U"
      ]
    },
    {
      "cell_type": "code",
      "source": [
        "from google.colab import userdata\n",
        "from llama_index.core import VectorStoreIndex, SimpleDirectoryReader, Settings\n",
        "from llama_index.core.schema import Document\n",
        "from llama_index.llms.groq import Groq\n",
        "from llama_index.embeddings.cohere import CohereEmbedding\n",
        "# tavily\n",
        "from tavily import TavilyClient\n",
        "#from llama_hub.tools.tavily_research import TavilyToolSpec"
      ],
      "metadata": {
        "id": "0BkWeTEAXQQC"
      },
      "execution_count": 2,
      "outputs": []
    },
    {
      "cell_type": "markdown",
      "source": [
        "Tavily Data 🐳 : CODE #1\n",
        "---"
      ],
      "metadata": {
        "id": "CWAFKaKyXCE5"
      }
    },
    {
      "cell_type": "code",
      "source": [
        "# Tavily Context Search function -> Document\n",
        "def get_Document(query):\n",
        "  # Initialize the Tavily client with your API key\n",
        "  tavily = TavilyClient(api_key=userdata.get('TAVILY_API'))\n",
        "  response = tavily.search(query=query, search_depth=\"advanced\")\n",
        "\n",
        "  return [\n",
        "      Document(text=result[\"content\"], extra_info={\"url\": result[\"url\"]})\n",
        "      for result in response[\"results\"]\n",
        "  ]"
      ],
      "metadata": {
        "id": "CyeTZdwmArEz"
      },
      "execution_count": 3,
      "outputs": []
    },
    {
      "cell_type": "code",
      "source": [
        "# Get Document for Index\n",
        "query = \"What is the risks, headwinds and tailwinds of investing in AAPL this year, also give the last stock price and market cap ?\"\n",
        "documents = get_Document(query)\n",
        "\n",
        "documents[0].text"
      ],
      "metadata": {
        "collapsed": true,
        "id": "DjZJbOn5BZAg",
        "colab": {
          "base_uri": "https://localhost:8080/",
          "height": 178
        },
        "outputId": "71200cb1-add2-4548-ce16-962ff0a50640"
      },
      "execution_count": 4,
      "outputs": [
        {
          "output_type": "execute_result",
          "data": {
            "text/plain": [
              "\"(Definition, Examples, and Applications)\\nSelf-Employment: Benefits, Challenges, Financial Planning\\nTop Resources\\nInvestment Banking Salary\\nPrivate Equity Salary\\nInvestment Banking Target School List\\nCompany\\nsupport@peakframeworks.com\\n🙌\\xa0 Give us a Shout Out!\\n🌳\\xa0 We've planted 31,504 trees\\nPrivate Equity Recruiting Guide\\nInvestment Banking Coffee Chat Questions Courses\\nReviews\\nAbout Us\\nBlog\\nLogin\\nMore\\nWhat are Headwinds vs. Tailwinds in Business?\\nHeadwinds refer to obstacles or challenges that hinder growth or progress, whereas tailwinds are factors that propel something forward.\\n For instance, stricter environmental regulations might push companies towards greener initiatives but also impose additional costs.\\nFactors that Lead to Headwinds\\nEconomic Downturns or Recessions\\nEconomic downturns, characterized by declining GDP and an increase in unemployment, can create severe headwinds for a variety of industries.\\n For instance, early investors in the electric vehicle trend have seen considerable returns as the industry has grown.\\nStrategies for Navigating Headwinds and Tailwinds\\nAdapting to changing market conditions is key. Favorable Regulatory Environment\\nPositive regulatory changes can act as tailwinds by removing barriers to entry or operation, allowing companies to operate more freely, access new markets, or increase profitability.\\n\""
            ],
            "application/vnd.google.colaboratory.intrinsic+json": {
              "type": "string"
            }
          },
          "metadata": {},
          "execution_count": 4
        }
      ]
    },
    {
      "cell_type": "code",
      "source": [
        "# Setting llm and embeddings\n",
        "GROQ_API_KEY = userdata.get('GROQ_API_KEY') # Models: \"llama3-8b-8192\" ; \"gemma-7b-it\" ; \"mixtral-8x7b-32768\"\n",
        "llm_groq = Groq(model=\"llama3-8b-8192\", api_key=GROQ_API_KEY)\n",
        "Settings.llm = llm_groq\n",
        "embed_co = CohereEmbedding(cohere_api_key=userdata.get('COHERE_API'), model_name=\"embed-english-v3.0\", input_type=\"search_query\")\n",
        "Settings.embed_model = embed_co\n",
        "\n",
        "#query = \"As financial adviser, What is the risks and tailwinds of investing in AI infra stocks in 2024, also give some stocks names with details ?\"\n",
        "query = \"tell me more aboout OKLO and focus in financial situation, industry, strategy, last news and give some competitors\"\n",
        "#query = \"Give me in a table format the first 11 Cypto Coin by market cap in dollars, with price and brief description  ?\"\n",
        "\n",
        "#doc_store = SimpleDirectoryReader('data').load_data()\n",
        "documents = get_Document(query)\n",
        "index = VectorStoreIndex.from_documents(documents)\n",
        "\n",
        "# Set ChatEngin 'Context' Mode\n",
        "chat_engine = index.as_chat_engine(chat_mode=\"context\" , verbose=True)\n"
      ],
      "metadata": {
        "id": "zg30TqivEMiO"
      },
      "execution_count": null,
      "outputs": []
    },
    {
      "cell_type": "code",
      "source": [
        "# Stream response\n",
        "response = chat_engine.stream_chat(query)\n",
        "for token in response.response_gen:\n",
        "    print(token, end=\"\")"
      ],
      "metadata": {
        "colab": {
          "base_uri": "https://localhost:8080/"
        },
        "id": "Nk7RTMXvsuFZ",
        "outputId": "5dcd3b55-8e9d-4ac2-e88e-c09e66f0bac8"
      },
      "execution_count": null,
      "outputs": [
        {
          "output_type": "stream",
          "name": "stdout",
          "text": [
            "Here's an overview of Oklo Inc. (OKLO) and its financial situation, industry, strategy, last news, and competitors:\n",
            "\n",
            "**Financial Situation:**\n",
            "\n",
            "* Oklo Inc. is a private company, so its financial information is not publicly disclosed. However, according to PitchBook, Oklo has received funding from investors, including a $50 million Series B round in 2022.\n",
            "* The company's financial situation is likely focused on developing its advanced fission power plants and scaling its operations.\n",
            "\n",
            "**Industry:**\n",
            "\n",
            "* Oklo operates in the nuclear energy industry, specifically in the development of advanced fission power plants.\n",
            "* The company's technology aims to provide clean, reliable, and affordable energy at scale.\n",
            "\n",
            "**Strategy:**\n",
            "\n",
            "* Oklo is pursuing two complementary tracks to address the demand for clean energy:\n",
            "\t1. Providing reliable, commercial-scale energy to customers.\n",
            "\t2. Selling used nuclear fuel recycling services to the U.S. market.\n",
            "* The company's strategy is focused on developing its advanced fission power plants and scaling its operations to meet the growing demand for clean energy.\n",
            "\n",
            "**Last News:**\n",
            "\n",
            "* In 2022, Oklo announced a $50 million Series B funding round to support the development of its advanced fission power plants.\n",
            "* The company has also partnered with various organizations, including the U.S. Department of Energy, to advance its technology and commercialize its products.\n",
            "\n",
            "**Competitors:**\n",
            "\n",
            "* Empresa Distribuidora y Comercializadora Norte Sociedad Anónima (EDN)\n",
            "* Altus Power (AMPS)\n",
            "* AltC Acquisition (ALCC)\n",
            "* Spruce Power (SPRU)\n",
            "* Eco Wave Power Global AB (publ) (WAVE)\n",
            "* Heliogen (HLGN)\n",
            "* Ocean Power Technologies (OPTT)\n",
            "* Kepco (KEP)\n",
            "* NextEra Energy (NEE)\n",
            "* Southern Company (SO)\n",
            "\n",
            "These companies operate in the renewable energy and nuclear energy industries, and some may be competitors or collaborators for Oklo in the development of advanced fission power plants.\n",
            "\n",
            "Please note that the information provided is based on publicly available data and may not be up-to-date or accurate."
          ]
        }
      ]
    },
    {
      "cell_type": "markdown",
      "source": [
        "Tavily Data 🐳 : CODE #2\n",
        "---"
      ],
      "metadata": {
        "id": "34tEbZf3DK7m"
      }
    },
    {
      "cell_type": "code",
      "source": [
        "from google.colab import userdata\n",
        "from tavily import TavilyClient\n",
        "\n",
        "tavily = TavilyClient(api_key=userdata.get('TAVILY_API'))\n",
        "\n",
        "# For basic search:\n",
        "#response = tavily.search(query=\"Get the main data of PLTR and Should I invest in PLTR in 2024?\")\n",
        "# For advanced search:\n",
        "\n",
        "def format_query(symbol):\n",
        "   return f\"Should I invest in {symbol} in 2024?\"\n",
        "\n",
        "symbol = \"BBAI\"\n",
        "\n",
        "response = tavily.search(query=format_query(symbol), search_depth=\"advanced\")\n",
        "# Get the search results as context to pass an LLM:\n",
        "context = [{\"url\": obj[\"url\"], \"content\": obj[\"content\"]} for obj in response['results']]\n",
        "\n",
        "print(response)\n",
        "print(len(context))\n",
        "print(context[0])\n",
        "print(context[0]['url'])\n"
      ],
      "metadata": {
        "colab": {
          "base_uri": "https://localhost:8080/"
        },
        "id": "8MPJpiq_fdpZ",
        "outputId": "079cc5e8-2459-4d04-a981-eb63631624c2"
      },
      "execution_count": null,
      "outputs": [
        {
          "output_type": "stream",
          "name": "stdout",
          "text": [
            "{'query': 'Should I invest in BBAI in 2024?', 'follow_up_questions': None, 'answer': None, 'images': None, 'results': [{'title': 'Should You Invest in BigBear.ai (BBAI) Ahead of Q1 Earnings?', 'url': 'https://www.zacks.com/stock/news/2265309/should-you-invest-in-bigbearai-bbai-ahead-of-q1-earnings', 'content': 'BigBear.ai (BBAI Quick Quote BBAI - Free Report) is set to report first-quarter 2024 results on May 2. BigBear.ai is likely to have benefited from growing government investment in its robust AI ...', 'score': 0.97835, 'raw_content': None}, {'title': 'BigBear.ai Stock: Buy, Sell, or Hold? | The Motley Fool', 'url': 'https://www.fool.com/investing/2024/06/08/bigbearai-stock-buy-sell-or-hold/', 'content': 'Shares of BigBear.ai (BBAI 5.88%) have been treading water since a less-than-stellar first-quarter update was released last month. The stock trades down nearly 34% so far in 2024 with the market ...', 'score': 0.97262, 'raw_content': None}, {'title': 'Should You Invest in BigBear.ai (BBAI) Ahead of Q1 Earnings?', 'url': 'https://www.nasdaq.com/articles/should-you-invest-in-bigbear.ai-bbai-ahead-of-q1-earnings', 'content': \"BigBear.ai BBAI is set to report first-quarter 2024 results on May 2.BigBear.ai is likely to have benefited from growing government investment in its robust AI solutions.BBAI's ongoing contracts ...\", 'score': 0.964, 'raw_content': None}, {'title': 'BBAI - BigBear.ai Holdings Inc Stock Price Forecast 2024, 2025, 2030 to ...', 'url': 'https://stockscan.io/stocks/BBAI/forecast', 'content': 'It is for general information only and should not be used to make any investment decisions. Please consult with a professional financial advisor before making any investment decisions. ... Our forecast for BBAI stock price in 2024 now indicates an average price target of $3.8359 with a high forecast of $6.2317 and a low forecast of $1.44.', 'score': 0.93342, 'raw_content': None}, {'title': 'Should You Invest in BigBear.ai (BBAI) Ahead of Q1 Earnings?', 'url': 'https://finance.yahoo.com/news/invest-bigbear-ai-bbai-ahead-152200610.html', 'content': \"BigBear.ai BBAI is set to report first-quarter 2024 results on May 2. BigBear.ai is likely to have benefited from growing government investment in its robust AI solutions. BBAI's ongoing ...\", 'score': 0.92361, 'raw_content': None}], 'response_time': 0.95}\n"
          ]
        }
      ]
    },
    {
      "cell_type": "code",
      "source": [
        "tavily.qna_search(query='Should I invest in PLTR in 2024?')"
      ],
      "metadata": {
        "colab": {
          "base_uri": "https://localhost:8080/",
          "height": 107
        },
        "id": "ozEEXk7j-Ckt",
        "outputId": "d89f56c5-d6b4-48ff-9f4d-7d58a906007f"
      },
      "execution_count": null,
      "outputs": [
        {
          "output_type": "execute_result",
          "data": {
            "text/plain": [
              "'Based on the data available as of June 7, 2024, Palantir Technologies (PLTR) stock has been experiencing volatility and fluctuation in price. The stock price has seen significant increases over the past year, with forecasts indicating potential growth. However, there are concerns about meeting consensus expectations for revenue growth in 2024, particularly in the international commercial business and government sectors. Analysts have highlighted challenges related to government contracts and competition in data analytics. Therefore, investing in PLTR in 2024 may involve risks and it is advisable to carefully consider all factors before making a decision.'"
            ],
            "application/vnd.google.colaboratory.intrinsic+json": {
              "type": "string"
            }
          },
          "metadata": {},
          "execution_count": 90
        }
      ]
    },
    {
      "cell_type": "code",
      "source": [
        "resp = tavily.get_search_context(query=\"What happened in the burning man floods?\", search_depth=\"advanced\", max_tokens=1500)"
      ],
      "metadata": {
        "id": "BwQgIV9Q-90k"
      },
      "execution_count": null,
      "outputs": []
    },
    {
      "cell_type": "code",
      "source": [
        "resp"
      ],
      "metadata": {
        "colab": {
          "base_uri": "https://localhost:8080/",
          "height": 143
        },
        "id": "BPNpRjvym0S1",
        "outputId": "e9342b20-4ec2-40ba-d7dc-d0d2c69819db"
      },
      "execution_count": null,
      "outputs": [
        {
          "output_type": "execute_result",
          "data": {
            "text/plain": [
              "'\"[\\\\\"{\\\\\\\\\\\\\"url\\\\\\\\\\\\\": \\\\\\\\\\\\\"https://www.today.com/news/what-is-burning-man-flood-death-rcna103231\\\\\\\\\\\\\", \\\\\\\\\\\\\"content\\\\\\\\\\\\\": \\\\\\\\\\\\\"\\\\\\\\\\\\\\\\\\\\\\\\\\\\\"\\\\\\\\\\\\\\\\nAn update on BurningMan.org posted the night of Sept. 3 offered those still on site a \\\\\\\\\\\\\\\\\\\\\\\\\\\\\"Wet Playa Survival Guide\\\\\\\\\\\\\\\\\\\\\\\\\\\\\" with tips, as well as an update saying that conditions were \\\\\\\\\\\\\\\\\\\\\\\\\\\\\"improving\\\\\\\\\\\\\\\\\\\\\\\\\\\\\" and that roads in Black Rock City were expected to open on Sept. 4 for \\\\\\\\\\\\\\\\\\\\\\\\\\\\\"Exodus.\\\\\\\\\\\\\\\\\\\\\\\\\\\\\"\\\\\\\\\\\\\\\\n\\\\\\\\\\\\\\\\\\\\\\\\\\\\\"Thank goodness this community knows how to take care of each other,\\\\\\\\\\\\\\\\\\\\\\\\\\\\\" the Instagram page for Burning Man Information Radio wrote on a post predicting more rain.\\\\\\\\\\\\\\\\nNeal Katyal, Chris Rock and others detail their \\\\\\\\\\\\\\\\u2018escape\\\\\\\\\\\\\\\\u2019 from Black Rock City\\\\\\\\\\\\\\\\nComedian Chris Rock and Diplo, producer and DJ,\\\\\\\\\\\\\\\\u00a0were among this year\\'s Burning Man attendees. Why are people stranded at Burning Man?\\\\\\\\\\\\\\\\nEach year participants in the Burning Man event gather for nine days in an \\\\\\\\\\\\\\\\\\\\\\\\\\\\\"annual experiment in temporary community dedicated to Radical Self-expression and Radical Self-reliance,\\\\\\\\\\\\\\\\\\\\\\\\\\\\\" according to burningman.org.\\\\\\\\\\\\\\\\nHeld in Nevada since 1991, the festival sees dreamers, artists, tech founders and celebrities \\\\\\\\\\\\\\\\u2014 among others \\\\\\\\\\\\\\\\u2014 converge to create a temporary community in the desert.\\\\\\\\\\\\\\\\n By Sept. 1, organizers tweeted on X that the more than 70,000 attendees of Burning Man should \\\\\\\\\\\\\\\\\\\\\\\\\\\\\"help each other stay safe\\\\\\\\\\\\\\\\\\\\\\\\\\\\\" and that the gate and airport in and out of the area was closed due to the impossibility for vehicles to \\\\\\\\\\\\\\\\\\\\\\\\\\\\\"traverse the playa. In 2014, a 29-year-old woman was hit by a bus outside of Black Rock City, and a motorcycle accident claimed the life of a friend of the Burning Man founders back in 1996, according to an article in the Reno Gazette Journal.\\\\\\\\\\\\\\\\n \\\\\\\\\\\\\\\\\\\\\\\\\\\\\"A fan offered Chris Rock and I a ride out of burning man in the back of a pick up,\\\\\\\\\\\\\\\\\\\\\\\\\\\\\" Diplo wrote in a text overlay of the video.\\\\\\\\\\\\\\\\n\\\\\\\\\\\\\"}\\\\\", \\\\\"{\\\\\\\\\\\\\"url\\\\\\\\\\\\\": \\\\\\\\\\\\\"https://www.nbcnews.com/news/us-news/live-blog/live-updates-burning-man-flooding-keeps-thousands-stranded-nevada-site-rcna103193\\\\\\\\\\\\\", \\\\\\\\\\\\\"content\\\\\\\\\\\\\": \\\\\\\\\\\\\"Profile\\\\\\\\\\\\\\\\nSections\\\\\\\\\\\\\\\\ntv\\\\\\\\\\\\\\\\nFeatured\\\\\\\\\\\\\\\\nMore From NBC\\\\\\\\\\\\\\\\nFollow NBC News\\\\\\\\\\\\\\\\nnews Alerts\\\\\\\\\\\\\\\\nThere are no new alerts at this time\\\\\\\\\\\\\\\\nBurning Man flooding keeps thousands stranded at Nevada site as authorities investigate 1 death\\\\\\\\\\\\\\\\nBurning Man attendees struggling to get home\\\\\\\\\\\\\\\\n70,000+ stuck at Burning Man: When will they be able to get out?\\\\\\\\\\\\\\\\n Thousands still stranded at Burning Man after torrential rain\\\\\\\\\\\\\\\\nBurning Man revelers unfazed by deluge and deep mud\\\\\\\\\\\\\\\\nReuters\\\\\\\\\\\\\\\\nThousands of Burning Man attendees partied hard on Sunday despite downpours that turned the Nevada desert where the annual arts and music festival takes place into a sea of sticky mud and led officials to order the multitudes to shelter in place.\\\\\\\\\\\\\\\\n Neal Katyal warns hiking in the mud\\\\\\\\\\\\\\\\ncan be \\'worse than walking on ice\\'\\\\\\\\\\\\\\\\nDoha Madani\\\\\\\\\\\\\\\\nNeal Katyal, the former acting U.S. solicitor general, is among the Burning Man attendees who decided to take the risk and hike out of the festival grounds.\\\\\\\\\\\\\\\\n Videos posted to his Instagram story show Diplo walking through mud before, he says, he hitchhiked to Gerlach and Reno to make a flight to Washington, D.C.\\\\\\\\\\\\\\\\n\\\\\\\\\\\\\\\\u201cI just got done DJ\\\\\\\\\\\\\\\\u2019ing for three hours, after walking f---ing for four hours out of the desert and taking a flight, mud still on my face,\\\\\\\\\\\\\\\\u201d he said in a video posted to his Instagram story last night.\\\\\\\\\\\\\\\\n Burning Man memes are swamping social media\\\\\\\\\\\\\\\\nAngela Yang\\\\\\\\\\\\\\\\nAs heavy rain turns Burning Man 2023 into a muddy mess, a deluge of unsympathetic jokes has swamped the internet outside Black Rock City, the temporary location built annually for the nine-day festival in the remote desert of Nevada.\\\\\\\\\\\\\\\\n\\\\\\\\\\\\\"}\\\\\", \\\\\"{\\\\\\\\\\\\\"url\\\\\\\\\\\\\": \\\\\\\\\\\\\"https://www.cnn.com/2023/09/05/us/burning-man-storms-shelter-exodus-tuesday/index.html\\\\\\\\\\\\\", \\\\\\\\\\\\\"content\\\\\\\\\\\\\": \\\\\\\\\\\\\"CNN values your feedback\\\\\\\\\\\\\\\\nBurning Man attendees make a mass exodus after a dramatic weekend that left thousands stuck in the Nevada desert\\\\\\\\\\\\\\\\nThousands of Burning Man attendees finally made their mass exodus after intense rain over the weekend flooded camp sites and filled them with thick, ankle-deep mud \\\\\\\\\\\\\\\\u2013 stranding more than 70,000 free-spirited revelers as they waited for the Nevada desert city to dry out.\\\\\\\\\\\\\\\\n Burning Man organizers lift driving ban after heavy rains left the event smothered in mud and trapped thousands\\\\\\\\\\\\\\\\nThe area was still muddy and parts were still difficult to navigate, organizers warned, and the wait time to leave the city Monday night was about seven hours. Diplo hitchhiked ride out of rain-drenched Burning Man after walking miles \\'through the mud\\' and actually made it to his DC concert\\\\\\\\\\\\\\\\n\\\\\\\\\\\\\\\\u201cQuite a wet start to September for much of eastern CA-western NV,\\\\\\\\\\\\\\\\u201d the National Weather Service in Reno wrote on X. \\\\\\\\\\\\\\\\u201d \\\\\\\\\\\\\\\\u201cAs soon as the tents started getting water-logged or unlivable, people in RVs started taking in some of the tenters, so everybody was warm,\\\\\\\\\\\\\\\\u201d Kaz Qamruddin, who attended the event, told CNN\\\\\\\\\\\\\\\\u2019s Brianna Keilar Monday.\\\\\\\\\\\\\\\\n From wood blocks to \\'poop buckets,\\' how Burning Man organizers told festivalgoers to prepare for heavy rain\\\\\\\\\\\\\\\\nAmong the early departures was music DJ Diplo, who told CNN he walked several miles in the muddy desert Saturday morning along with other celebrities, including Chris Rock, Cindy Crawford, Kaia Gerber and Austin Butler.\\\\\\\\\\\\\"}\\\\\"]\"'"
            ],
            "application/vnd.google.colaboratory.intrinsic+json": {
              "type": "string"
            }
          },
          "metadata": {},
          "execution_count": 109
        }
      ]
    },
    {
      "cell_type": "code",
      "source": [
        "for item in context :\n",
        "  print(item['content'])"
      ],
      "metadata": {
        "colab": {
          "base_uri": "https://localhost:8080/"
        },
        "id": "tfnlmBxJhyy5",
        "outputId": "b356185b-4111-4ded-f80c-872afd9c8191",
        "collapsed": true
      },
      "execution_count": null,
      "outputs": [
        {
          "output_type": "stream",
          "name": "stdout",
          "text": [
            "\"\n",
            "The massive number of installed devices worldwide helps Apple make more money through its services, such as the App Store, Apple Music, and Apple Pay. He has said that the introduction of the product \"marks the beginning of a new era for computing\" and that Vision Pro is \"unlike anything created before. The Motley Fool reaches millions of people every month through our premium investing solutions, free guidance and market analysis on Fool.com, top-rated podcasts, and non-profit The Motley Fool Foundation.\n",
            " The Motley Fool reaches millions of people every month through our premium investing solutions, free guidance and market analysis on Fool.com, top-rated podcasts, and non-profit The Motley Fool Foundation.\n",
            " \"\n",
            "Apple's downsides\n",
            "As great as Apple is, the company and its stock have some downsides.\n",
            "Investing\n",
            "Tony Dong\n",
            "Gold price today November 15, 2023\n",
            "Investing\n",
            "Tony Dong\n",
            "Microsoft (MSFT) stock forecast and price prediction\n",
            "Investing\n",
            "Wayne Duggan\n",
            "Gold price today November 14, 2023\n",
            "Investing\n",
            "Tony Dong\n",
            "Gold price today November 13, 2023\n",
            "Investing\n",
            "Tony Dong\n",
            "Disney (DIS) stock forecast and price prediction\n",
            "Investing\n",
            "Wayne Duggan\n",
            "Best long-term stocks of November 2023\n",
            "Investing\n",
            "Wayne Duggan\n",
            "Gold price today November 8, 2023\n",
            " Investing\n",
            "Bob Haegele\n",
            "Gold price today November 21, 2023\n",
            "Investing\n",
            "Tony Dong\n",
            "Gold price today November 20, 2023\n",
            "Investing\n",
            "Tony Dong\n",
            "Average net worth by age: See how you compare\n",
            "Investing\n",
            "Coryanne Hicks\n",
            "Gold price today November 16, 2023\n",
            " Gold price today November 24, 2023\n",
            "Investing\n",
            "Tony Dong\n",
            "Gold price today November 23, 2023\n",
            "Investing\n",
            "Tony Dong\n",
            "Gold price today November 22, 2023\n",
            "Investing\n",
            "Tony Dong\n",
            "Best stocks under $10 to buy in November 2023\n",
            " Personal Loans\n",
            "Best Personal Loans\n",
            "Auto Insurance\n",
            "Best Auto Insurance\n",
            "BANKING\n",
            "Best High-Yields Savings Accounts\n",
            "CREDIT CARDS\n",
            "Best Credit Cards\n",
            "Advertiser Disclosure\n",
            "Advertiser Disclosure\n",
            "Blueprint is an independent, advertising-supported comparison service focused on helping readers make smarter decisions. Investing\n",
            "Tony Dong\n",
            "How to buy Bitcoin\n",
            "How to buy stocks\n",
            "How to invest in gold\n",
            "What is a brokerage account?\n",
            "\n",
            "Net sales also increased by 8%, driven by the launch of new products and services like the updated 14-inch MacBook Pro, the third-generation version of the popular AirPods, the launch of the iPhone 14 and the introduction of the Apple Watch Series 8. But in 2022, its stock price dropped from a high of $182.88 on the year’s first trading day, Jan. 3, to close at $129.93 by the end of December—a decrease of nearly 29%—as the company continued to battle production and supply issues.\n",
            " But if you had invested $500 in the S&P 500 index in 2018, you’d have $738.\n",
            "Opting to invest in Apple would allow your money to grow more than twice as much than if you had invested in the S&P 500.\n",
            " Apple Stock Forecast\n",
            "Reviewed By\n",
            "Reviewed By\n",
            "Published: Mar 22, 2023, 9:58am\n",
            "With a market capitalization of $2.49 trillion, Apple (AAPL) is the largest publicly-traded company in the world. Apple’s Strengths\n",
            "Name Recognition\n",
            "Apple is a household brand name, and it’s the company people often think of when they’re considering buying a new phone or tablet.\n",
            "\n",
            "Apple's big move wasn't getting into AI; ... in-depth research, investing resources, and more. Learn More. NASDAQ: AAPL Apple. ... 2024. The video was published on June 12, 2024.\n",
            "Its Mac and iPad sales are down over the past year, and the iPhone business only recently returned to expansion in the fiscal Q4 period that ran through late September.\n",
            " The Motley Fool reaches millions of people every month through our premium investing solutions, free guidance and market analysis on Fool.com, top-rated podcasts, and non-profit The Motley Fool Foundation.\n",
            " The Motley Fool reaches millions of people every month through our premium investing solutions, free guidance and market analysis on Fool.com, top-rated podcasts, and non-profit The Motley Fool Foundation.\n",
            " About The Motley Fool\n",
            "Our Services\n",
            "Around the Globe\n",
            "Free Tools\n",
            "Our Affiliates The stock has gained 50% through early December and is sitting near its all-time highs as the year draws to a close.\n",
            "\n"
          ]
        }
      ]
    },
    {
      "cell_type": "code",
      "source": [
        "import os\n",
        "\n",
        "# Assuming 'context' is your list of dictionaries with content\n",
        "for i, item in enumerate(context):\n",
        "    # Create the 'data' directory if it doesn't exist\n",
        "    if not os.path.exists(f\"data\"):\n",
        "        os.makedirs(f\"data\")\n",
        "\n",
        "    # Define the filename using the current index\n",
        "    filename = f\"data/context_{symbol}_{i}.txt\"\n",
        "\n",
        "    # Write the content to the file\n",
        "    with open(filename, 'w') as file:\n",
        "        file.write(item['content'])\n"
      ],
      "metadata": {
        "id": "cfwHxh2d0YJr"
      },
      "execution_count": null,
      "outputs": []
    },
    {
      "cell_type": "code",
      "source": [
        "from llama_index.core import VectorStoreIndex, SimpleDirectoryReader, Settings\n",
        "from llama_index.llms.groq import Groq\n",
        "from llama_index.embeddings.cohere import CohereEmbedding"
      ],
      "metadata": {
        "id": "xJgs8h9LqbbT"
      },
      "execution_count": null,
      "outputs": []
    },
    {
      "cell_type": "code",
      "source": [
        "embed_co = CohereEmbedding(cohere_api_key=userdata.get('COHERE_API'), model_name=\"embed-english-v3.0\", input_type=\"search_query\")\n",
        "Settings.embed_model = embed_co\n",
        "doc_store = SimpleDirectoryReader('data').load_data()\n",
        "index = VectorStoreIndex.from_documents(doc_store)\n",
        "\n",
        "print(len(doc_store))\n",
        "print(doc_store[0])"
      ],
      "metadata": {
        "colab": {
          "base_uri": "https://localhost:8080/"
        },
        "id": "a2P-4N0JqwWW",
        "outputId": "de598b29-5ee9-43ea-f109-473590479313"
      },
      "execution_count": null,
      "outputs": [
        {
          "output_type": "stream",
          "name": "stdout",
          "text": [
            "10\n",
            "Doc ID: 6581e989-5f11-44f1-8e21-bff528d5c92a\n",
            "Text: BigBear.ai BBAI is set to report first-quarter 2024 results on\n",
            "May 2.BigBear.ai is likely to have benefited from growing government\n",
            "investment in its robust AI solutions.BBAI's ongoing contracts ...\n"
          ]
        }
      ]
    },
    {
      "cell_type": "code",
      "source": [],
      "metadata": {
        "id": "GZnO5sc1XRt6"
      },
      "execution_count": null,
      "outputs": []
    },
    {
      "cell_type": "markdown",
      "source": [
        "xxx\n",
        "---"
      ],
      "metadata": {
        "id": "Jy0rPIqBXB33"
      }
    },
    {
      "cell_type": "markdown",
      "source": [
        "xxx\n",
        "---"
      ],
      "metadata": {
        "id": "HGPlsemCXBfp"
      }
    }
  ]
}